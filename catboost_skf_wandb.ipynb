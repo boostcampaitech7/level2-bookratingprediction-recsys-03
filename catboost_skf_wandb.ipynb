{
 "cells": [
  {
   "cell_type": "markdown",
   "metadata": {},
   "source": [
    "## Library"
   ]
  },
  {
   "cell_type": "code",
   "execution_count": 1,
   "metadata": {},
   "outputs": [],
   "source": [
    "import sys\n",
    "sys.path.append(\"~e/book/code\")\n",
    "from src.data.context_data import process_context_data, str2list, split_location\n",
    "import wandb\n",
    "import pandas as pd\n",
    "import numpy as np\n",
    "from catboost import CatBoostRegressor\n",
    "from sklearn.model_selection import StratifiedKFold\n",
    "from sklearn.metrics import mean_squared_error, mean_absolute_error, root_mean_squared_error\n",
    "import optuna\n",
    "import regex\n",
    "import json"
   ]
  },
  {
   "cell_type": "code",
   "execution_count": 2,
   "metadata": {},
   "outputs": [
    {
     "name": "stderr",
     "output_type": "stream",
     "text": [
      "\u001b[34m\u001b[1mwandb\u001b[0m: Using wandb-core as the SDK backend. Please refer to https://wandb.me/wandb-core for more information.\n",
      "\u001b[34m\u001b[1mwandb\u001b[0m: Currently logged in as: \u001b[33mkyk709\u001b[0m (\u001b[33mremember-us\u001b[0m). Use \u001b[1m`wandb login --relogin`\u001b[0m to force relogin\n"
     ]
    },
    {
     "data": {
      "text/html": [
       "Tracking run with wandb version 0.18.5"
      ],
      "text/plain": [
       "<IPython.core.display.HTML object>"
      ]
     },
     "metadata": {},
     "output_type": "display_data"
    },
    {
     "data": {
      "text/html": [
       "Run data is saved locally in <code>/data/ephemeral/home/book/TaroSin/level2-bookratingprediction-recsys-03/wandb/run-20241106_041745-rk54tu83</code>"
      ],
      "text/plain": [
       "<IPython.core.display.HTML object>"
      ]
     },
     "metadata": {},
     "output_type": "display_data"
    },
    {
     "data": {
      "text/html": [
       "Syncing run <strong><a href='https://wandb.ai/remember-us/active/runs/rk54tu83' target=\"_blank\">catboost_base</a></strong> to <a href='https://wandb.ai/remember-us/active' target=\"_blank\">Weights & Biases</a> (<a href='https://wandb.me/run' target=\"_blank\">docs</a>)<br/>"
      ],
      "text/plain": [
       "<IPython.core.display.HTML object>"
      ]
     },
     "metadata": {},
     "output_type": "display_data"
    },
    {
     "data": {
      "text/html": [
       " View project at <a href='https://wandb.ai/remember-us/active' target=\"_blank\">https://wandb.ai/remember-us/active</a>"
      ],
      "text/plain": [
       "<IPython.core.display.HTML object>"
      ]
     },
     "metadata": {},
     "output_type": "display_data"
    },
    {
     "data": {
      "text/html": [
       " View run at <a href='https://wandb.ai/remember-us/active/runs/rk54tu83' target=\"_blank\">https://wandb.ai/remember-us/active/runs/rk54tu83</a>"
      ],
      "text/plain": [
       "<IPython.core.display.HTML object>"
      ]
     },
     "metadata": {},
     "output_type": "display_data"
    },
    {
     "data": {
      "text/html": [
       "<button onClick=\"this.nextSibling.style.display='block';this.style.display='none';\">Display W&B run</button><iframe src='https://wandb.ai/remember-us/active/runs/rk54tu83?jupyter=true' style='border:none;width:100%;height:420px;display:none;'></iframe>"
      ],
      "text/plain": [
       "<wandb.sdk.wandb_run.Run at 0x7fd13d4ddab0>"
      ]
     },
     "execution_count": 2,
     "metadata": {},
     "output_type": "execute_result"
    }
   ],
   "source": [
    "run = str(input(\"run 이름을 입력하세요 :\"))\n",
    "# selected_model = str(input(\"model 명을 입력하세요 (xgb/rf) :\"))\n",
    "# opt = bool(input(\"Optuna 사용 여부를 입력하세요 (뭐라도 입력 시 사용) :\"))\n",
    "\n",
    "wandb.init(\n",
    "    settings=wandb.Settings(start_method=\"thread\"),\n",
    "    dir=None,  # 로컬에 로그 저장하지 않음\n",
    "    entity=\"remember-us\", # team name,\n",
    "    project=\"active\", # project name\n",
    "    name=run, # run name\n",
    ")"
   ]
  },
  {
   "cell_type": "markdown",
   "metadata": {},
   "source": [
    "## Data Load"
   ]
  },
  {
   "cell_type": "code",
   "execution_count": 3,
   "metadata": {},
   "outputs": [],
   "source": [
    "data_path: str = \"/data/ephemeral/home/book/data/\"\n",
    "users = pd.read_csv(data_path + \"users.csv\")\n",
    "books = pd.read_csv(data_path + \"books.csv\")\n",
    "train = pd.read_csv(data_path + \"train_ratings.csv\")\n",
    "test = pd.read_csv(data_path + \"test_ratings.csv\")\n",
    "sub = pd.read_csv(data_path + 'sample_submission.csv')"
   ]
  },
  {
   "cell_type": "markdown",
   "metadata": {},
   "source": [
    "## Data Preprocessing"
   ]
  },
  {
   "cell_type": "code",
   "execution_count": 4,
   "metadata": {},
   "outputs": [],
   "source": [
    "def str2list(x: str) -> list:\n",
    "    '''문자열을 리스트로 변환하는 함수'''\n",
    "    return x[2:-2].split(', ')"
   ]
  },
  {
   "cell_type": "code",
   "execution_count": 5,
   "metadata": {},
   "outputs": [],
   "source": [
    "def split_location(x: str) -> list:\n",
    "    '''\n",
    "    Parameters\n",
    "    ----------\n",
    "    x : str\n",
    "        location 데이터\n",
    "\n",
    "    Returns\n",
    "    -------\n",
    "    res : list\n",
    "        location 데이터를 나눈 뒤, 정제한 결과를 반환합니다.\n",
    "        순서는 country, state, city, ... 입니다.\n",
    "    '''\n",
    "    res = x.split(',')\n",
    "    res = [i.strip().lower() for i in res]\n",
    "    res = [regex.sub(r'[^a-zA-Z/ ]', '', i) for i in res]  # remove special characters\n",
    "    res = [i if i not in ['n/a', ''] else np.nan for i in res]  # change 'n/a' into NaN\n",
    "    res.reverse()  # reverse the list to get country, state, city, ... order\n",
    "\n",
    "    for i in range(len(res)-1, 0, -1):\n",
    "        if (res[i] in res[:i]) and (not pd.isna(res[i])):  # remove duplicated values if not NaN\n",
    "            res.pop(i)\n",
    "\n",
    "    return res"
   ]
  },
  {
   "cell_type": "code",
   "execution_count": 6,
   "metadata": {},
   "outputs": [],
   "source": [
    "def text_preprocessing(summary: str) -> str:\n",
    "    \"\"\"\n",
    "    주어진 텍스트 요약을 전처리합니다.\n",
    "\n",
    "    1. 특수 문자 제거\n",
    "    2. 알파벳과 숫자, 공백을 제외한 모든 문자 제거\n",
    "    3. 여러 개의 공백을 하나의 공백으로\n",
    "    4. 문자열의 앞뒤 공백 제거\n",
    "    5. 모든 문자를 소문자로 변환\n",
    "\n",
    "    Args:\n",
    "        summary (str): 전처리할 텍스트 문자열\n",
    "\n",
    "    Returns:\n",
    "        str: 전처리된 텍스트 문자열. 입력이 NaN인 경우 \"unknown\" 반환.\n",
    "    \"\"\"\n",
    "    if pd.isna(summary):\n",
    "        return 'unknown'  # NaN일 경우 \"unknown\" 반환\n",
    "    \n",
    "    summary = regex.sub('[.,\\'\\\"''\\\"!?]', '', summary)  # 특수 문자 제거\n",
    "    summary = regex.sub('[^0-9a-zA-Z\\s]', '', summary)  # 알파벳과 숫자, 공백 제외한 문자 제거\n",
    "    summary = regex.sub('\\s+', ' ', summary)  # 여러 개의 공백을 하나의 공백으로\n",
    "    summary = summary.lower()  # 소문자로 변환\n",
    "    summary = summary.strip()  # 앞뒤 공백 제거\n",
    "    return summary"
   ]
  },
  {
   "cell_type": "code",
   "execution_count": 7,
   "metadata": {},
   "outputs": [],
   "source": [
    "def categorize_publication(x: int, a: int) -> int:\n",
    "    \"\"\"\n",
    "    주어진 연도를 특정 기준에 따라 카테고리화하는 함수입니다.\n",
    "\n",
    "    Parameters\n",
    "    ----------\n",
    "    x : int\n",
    "        책의 발행 연도.\n",
    "    a : int\n",
    "        연도를 그룹화할 때 사용할 기준값 (예: 5년 단위로 그룹화).\n",
    "\n",
    "    Returns\n",
    "    -------\n",
    "    int\n",
    "        카테고리화된 연도를 반환합니다. \n",
    "        - 1970년 이하의 연도는 1970으로 반환합니다.\n",
    "        - 2000년 초과의 연도는 2006으로 반환합니다.\n",
    "        - 나머지 연도는 a 값에 맞게 그룹화하여 반환합니다.\n",
    "\n",
    "    Example\n",
    "    -------\n",
    "    books['years'] = books['year_of_publication'].apply(lambda x: categorize_publication(x, 5))\n",
    "    print(books['years'].value_counts())\n",
    "    \"\"\"\n",
    "    if x <= 1970:\n",
    "        return 1970\n",
    "    elif x > 2000:\n",
    "        return 2006\n",
    "    else:\n",
    "        return x // a * a"
   ]
  },
  {
   "cell_type": "code",
   "execution_count": 8,
   "metadata": {},
   "outputs": [],
   "source": [
    "def extract_language_from_isbn(isbn):\n",
    "    \"\"\"\n",
    "    ISBN 정보를 사용하여 언어 코드를 추출하는 함수입니다.\n",
    "\n",
    "    Parameters\n",
    "    ----------\n",
    "    isbn : str\n",
    "        책의 ISBN 번호.\n",
    "\n",
    "    Returns\n",
    "    -------\n",
    "    str\n",
    "        ISBN에서 추출한 언어 코드. ISBN이 비어있거나 형식에 맞지 않을 경우 최빈값 'en'을 반환합니다.\n",
    "        - isbn_language_map 참고\n",
    "        - 기타 언어 코드: isbn_language_map에 정의된 국가 코드를 기반으로 반환\n",
    "    \"\"\"\n",
    "    isbn_language_map = {\n",
    "        '0': 'en', '1': 'en', '2': 'fr', '3': 'de', '4': 'ja',\n",
    "        '5': 'ru', '7': 'zh-CN', '82': 'no', '84': 'es', '87': 'da',\n",
    "        '88': 'it', '89': 'ko', '94': 'nl', '600': 'fa', '602': 'ms',\n",
    "        '606': 'ro', '604': 'vi', '618': 'el', '967': 'ms', '974': 'th',\n",
    "        '989': 'pt'\n",
    "    }\n",
    "    if not isbn or not isbn.isdigit():\n",
    "        return 'en'  # 기본값 영어권\n",
    "    for prefix, language in isbn_language_map.items():\n",
    "        if isbn.startswith(prefix):\n",
    "            return language\n",
    "    return 'en'  # 기본값 영어권"
   ]
  },
  {
   "cell_type": "code",
   "execution_count": 9,
   "metadata": {},
   "outputs": [],
   "source": [
    "def replace_language_using_isbn(books):\n",
    "    \"\"\"\n",
    "    ISBN 정보를 활용하여 language 결측치를 대체하는 함수입니다.\n",
    "\n",
    "    Parameters\n",
    "    ----------\n",
    "    books : pd.DataFrame\n",
    "        책 정보가 담긴 DataFrame. 반드시 'isbn' 및 'language' 열을 포함해야 합니다.\n",
    "\n",
    "    Returns\n",
    "    -------\n",
    "    pd.DataFrame\n",
    "        language 결측치가 ISBN 정보를 사용해 대체된 DataFrame. ISBN에서 언어를 추출할 수 없는 경우\n",
    "        기본값 'en'으로 대체됩니다.\n",
    "\n",
    "    Example\n",
    "    -------\n",
    "    books = replace_language_using_isbn(books)\n",
    "    \"\"\"\n",
    "    books['extracted_language'] = books['isbn'].apply(extract_language_from_isbn)\n",
    "    books['language'] = books.apply(\n",
    "        lambda row: row['extracted_language'] if pd.isna(row['language']) else row['language'],\n",
    "        axis=1\n",
    "    )\n",
    "    books.drop(columns=['extracted_language'], inplace=True)\n",
    "    return books"
   ]
  },
  {
   "cell_type": "code",
   "execution_count": 10,
   "metadata": {},
   "outputs": [],
   "source": [
    "def categorize_age(x: int, a: int) -> int:\n",
    "    \"\"\"\n",
    "    주어진 나이를 특정 기준에 따라 카테고리화하는 함수입니다.\n",
    "\n",
    "    Parameters\n",
    "    ----------\n",
    "    x : int\n",
    "        유저의 나이.\n",
    "    a : int\n",
    "        나이를 그룹화할 때 사용할 기준값 (예: 10년 단위로 그룹화).\n",
    "\n",
    "    Returns\n",
    "    -------\n",
    "    int\n",
    "        카테고리화된 나이를 반환합니다. \n",
    "        - 20년 미만의 나이는 10으로 반환합니다.\n",
    "        - 60년 이상의 나이는 60으로 반환합니다.\n",
    "        - 나머지 나이는 a 값에 맞게 그룹화하여 반환합니다.\n",
    "    \"\"\"\n",
    "    if x < 20:\n",
    "        return 10\n",
    "    elif x >= 60:\n",
    "        return 60\n",
    "    else:\n",
    "        return x // a * a"
   ]
  },
  {
   "cell_type": "code",
   "execution_count": 11,
   "metadata": {},
   "outputs": [],
   "source": [
    "users_ = users.copy()\n",
    "books_ = books.copy()"
   ]
  },
  {
   "cell_type": "code",
   "execution_count": 12,
   "metadata": {},
   "outputs": [],
   "source": [
    "# 데이터 전처리\n",
    "##################### books\n",
    "books_['book_title'] = books_['book_title'].apply(text_preprocessing)\n",
    "books_['book_author'] = books_['book_author'].apply(text_preprocessing)\n",
    "books_['publisher'] = books_['publisher'].apply(text_preprocessing)\n",
    "books_['publication_range'] = books_['year_of_publication'].apply(lambda x: categorize_publication(x, 5))\n",
    "books_ = replace_language_using_isbn(books_)\n",
    "books_['category'] = books_['category'].apply(lambda x: str2list(x)[0] if not pd.isna(x) else np.nan)\n",
    "books_['category'] = books_['category'].apply(text_preprocessing)\n",
    "high_categories = ['fiction', 'biography', 'history', 'religion', 'nonfiction', 'social', 'science', 'humor', 'body', \n",
    "                'business', 'economics', 'cook', 'health', 'fitness', 'famil', 'relationship', \n",
    "                'computer', 'travel', 'selfhelp', 'psychology', 'poetry', 'art', 'critic', 'nature', 'philosophy', \n",
    "                'reference','drama', 'sports', 'politic', 'comic', 'novel', 'craft', 'language', 'education', 'crime', 'music', 'pet', \n",
    "                'child', 'collection', 'mystery', 'garden', 'medical', 'author', 'house','technology', 'engineering', 'animal', 'photography',\n",
    "                'adventure', 'game', 'science fiction', 'architecture', 'law', 'fantasy', 'antique', 'friend', 'brother', 'sister', 'cat',\n",
    "                'math', 'christ', 'bible', 'fairy', 'horror', 'design', 'adolescence', 'actor', 'dog', 'transportation', 'murder', 'adultery', 'short', 'bear'\n",
    "                ]\n",
    "# high_category 열을 초기화\n",
    "books_['high_category'] = None\n",
    "# 각 카테고리에 대해 반복하며 매핑\n",
    "for high_category in high_categories:\n",
    "    # category 열에서 high_category가 포함된 행을 찾고, 해당 행의 high_category 열을 업데이트\n",
    "    books_.loc[books_['category'].str.contains(high_category, case=False, na=False), 'high_category'] = high_category\n",
    "books_['high_category'] = books_['high_category'].fillna('others') # 결측치를 'others'로 대체\n",
    "\n",
    "##################### users\n",
    "users_['age'] = users_['age'].fillna(users_['age'].mean())\n",
    "users_['age_range'] = users_['age'].apply(lambda x: categorize_age(x, 10))\n",
    "\n",
    "users_['location_list'] = users_['location'].apply(lambda x: split_location(x)) \n",
    "users_['location_country'] = users_['location_list'].apply(lambda x: x[0])\n",
    "users_['location_state'] = users_['location_list'].apply(lambda x: x[1] if len(x) > 1 else np.nan)\n",
    "users_['location_city'] = users_['location_list'].apply(lambda x: x[2] if len(x) > 2 else np.nan)\n",
    "for idx, row in users_.iterrows():\n",
    "    if (not pd.isna(row['location_state'])) and pd.isna(row['location_country']):\n",
    "        fill_country = users_[users_['location_state'] == row['location_state']]['location_country'].mode()\n",
    "        fill_country = fill_country[0] if len(fill_country) > 0 else np.nan\n",
    "        users_.loc[idx, 'location_country'] = fill_country\n",
    "    elif (not pd.isna(row['location_city'])) and pd.isna(row['location_state']):\n",
    "        if not pd.isna(row['location_country']):\n",
    "            fill_state = users_[(users_['location_country'] == row['location_country']) \n",
    "                                & (users_['location_city'] == row['location_city'])]['location_state'].mode()\n",
    "            fill_state = fill_state[0] if len(fill_state) > 0 else np.nan\n",
    "            users_.loc[idx, 'location_state'] = fill_state\n",
    "        else:\n",
    "            fill_state = users_[users_['location_city'] == row['location_city']]['location_state'].mode()\n",
    "            fill_state = fill_state[0] if len(fill_state) > 0 else np.nan\n",
    "            fill_country = users_[users_['location_city'] == row['location_city']]['location_country'].mode()\n",
    "            fill_country = fill_country[0] if len(fill_country) > 0 else np.nan\n",
    "            users_.loc[idx, 'location_country'] = fill_country\n",
    "            users_.loc[idx, 'location_state'] = fill_state"
   ]
  },
  {
   "cell_type": "code",
   "execution_count": 13,
   "metadata": {},
   "outputs": [],
   "source": [
    "# location_country 열의 최빈값을 계산\n",
    "most_frequent_country = users_['location_country'].mode()[0]\n",
    "# NaN 값을 최빈값으로 대체\n",
    "users_['location_country'] = users_['location_country'].fillna(most_frequent_country)"
   ]
  },
  {
   "cell_type": "code",
   "execution_count": 14,
   "metadata": {},
   "outputs": [
    {
     "name": "stdout",
     "output_type": "stream",
     "text": [
      "<class 'pandas.core.frame.DataFrame'>\n",
      "RangeIndex: 68092 entries, 0 to 68091\n",
      "Data columns (total 8 columns):\n",
      " #   Column            Non-Null Count  Dtype  \n",
      "---  ------            --------------  -----  \n",
      " 0   user_id           68092 non-null  int64  \n",
      " 1   location          68092 non-null  object \n",
      " 2   age               68092 non-null  float64\n",
      " 3   age_range         68092 non-null  float64\n",
      " 4   location_list     68092 non-null  object \n",
      " 5   location_country  68092 non-null  object \n",
      " 6   location_state    67368 non-null  object \n",
      " 7   location_city     65305 non-null  object \n",
      "dtypes: float64(2), int64(1), object(5)\n",
      "memory usage: 4.2+ MB\n"
     ]
    }
   ],
   "source": [
    "users_.info()"
   ]
  },
  {
   "cell_type": "code",
   "execution_count": 15,
   "metadata": {},
   "outputs": [
    {
     "name": "stdout",
     "output_type": "stream",
     "text": [
      "<class 'pandas.core.frame.DataFrame'>\n",
      "RangeIndex: 149570 entries, 0 to 149569\n",
      "Data columns (total 12 columns):\n",
      " #   Column               Non-Null Count   Dtype  \n",
      "---  ------               --------------   -----  \n",
      " 0   isbn                 149570 non-null  object \n",
      " 1   book_title           149570 non-null  object \n",
      " 2   book_author          149570 non-null  object \n",
      " 3   year_of_publication  149570 non-null  float64\n",
      " 4   publisher            149570 non-null  object \n",
      " 5   img_url              149570 non-null  object \n",
      " 6   language             149570 non-null  object \n",
      " 7   category             149570 non-null  object \n",
      " 8   summary              82343 non-null   object \n",
      " 9   img_path             149570 non-null  object \n",
      " 10  publication_range    149570 non-null  float64\n",
      " 11  high_category        149570 non-null  object \n",
      "dtypes: float64(2), object(10)\n",
      "memory usage: 13.7+ MB\n"
     ]
    }
   ],
   "source": [
    "books_.info()"
   ]
  },
  {
   "cell_type": "code",
   "execution_count": 16,
   "metadata": {},
   "outputs": [],
   "source": [
    "# # 성택 \n",
    "# user_rating_counts = train['user_id'].value_counts()\n",
    "# active_user_threshold = 4  # 평점 수 기준\n",
    "# users['is_active_user'] = users['user_id'].apply(\n",
    "#     lambda x: 1 if user_rating_counts.get(x, 0) >= active_user_threshold else 0\n",
    "# )\n",
    "            \n",
    "# users = users.drop(['location'], axis=1)"
   ]
  },
  {
   "cell_type": "code",
   "execution_count": 17,
   "metadata": {},
   "outputs": [
    {
     "name": "stdout",
     "output_type": "stream",
     "text": [
      "(149570, 12) (68092, 8) (306795, 3) (76699, 3)\n"
     ]
    }
   ],
   "source": [
    "print(books_.shape, users_.shape, train.shape, test.shape)"
   ]
  },
  {
   "cell_type": "code",
   "execution_count": null,
   "metadata": {},
   "outputs": [],
   "source": [
    "users_final = users_[['user_id', 'age_range', 'location_country']]\n",
    "books_final = books_[['isbn', 'book_title', 'book_author', 'publisher', 'language', 'high_category', 'publication_range']]"
   ]
  },
  {
   "cell_type": "markdown",
   "metadata": {},
   "source": [
    "# 여기서부터 모델"
   ]
  },
  {
   "cell_type": "code",
   "execution_count": 19,
   "metadata": {},
   "outputs": [],
   "source": [
    "# 데이터 병합\n",
    "train = train.merge(users_final, on='user_id').merge(books_final, on='isbn')\n",
    "test = test.merge(users_final, on='user_id').merge(books_final, on='isbn')"
   ]
  },
  {
   "cell_type": "code",
   "execution_count": 20,
   "metadata": {},
   "outputs": [
    {
     "data": {
      "text/plain": [
       "Index(['user_id', 'isbn', 'rating', 'age_range', 'location_country',\n",
       "       'book_title', 'book_author', 'publisher', 'language', 'high_category',\n",
       "       'publication_range'],\n",
       "      dtype='object')"
      ]
     },
     "execution_count": 20,
     "metadata": {},
     "output_type": "execute_result"
    }
   ],
   "source": [
    "train.columns"
   ]
  },
  {
   "cell_type": "code",
   "execution_count": 21,
   "metadata": {},
   "outputs": [
    {
     "name": "stdout",
     "output_type": "stream",
     "text": [
      "<class 'pandas.core.frame.DataFrame'>\n",
      "RangeIndex: 306795 entries, 0 to 306794\n",
      "Data columns (total 11 columns):\n",
      " #   Column             Non-Null Count   Dtype  \n",
      "---  ------             --------------   -----  \n",
      " 0   user_id            306795 non-null  int64  \n",
      " 1   isbn               306795 non-null  object \n",
      " 2   rating             306795 non-null  int64  \n",
      " 3   age_range          306795 non-null  float64\n",
      " 4   location_country   306795 non-null  object \n",
      " 5   book_title         306795 non-null  object \n",
      " 6   book_author        306795 non-null  object \n",
      " 7   publisher          306795 non-null  object \n",
      " 8   language           306795 non-null  object \n",
      " 9   high_category      306795 non-null  object \n",
      " 10  publication_range  306795 non-null  float64\n",
      "dtypes: float64(2), int64(2), object(7)\n",
      "memory usage: 25.7+ MB\n"
     ]
    }
   ],
   "source": [
    "train.info()"
   ]
  },
  {
   "cell_type": "code",
   "execution_count": 22,
   "metadata": {},
   "outputs": [
    {
     "name": "stdout",
     "output_type": "stream",
     "text": [
      "<class 'pandas.core.frame.DataFrame'>\n",
      "RangeIndex: 76699 entries, 0 to 76698\n",
      "Data columns (total 11 columns):\n",
      " #   Column             Non-Null Count  Dtype  \n",
      "---  ------             --------------  -----  \n",
      " 0   user_id            76699 non-null  int64  \n",
      " 1   isbn               76699 non-null  object \n",
      " 2   rating             76699 non-null  int64  \n",
      " 3   age_range          76699 non-null  float64\n",
      " 4   location_country   76699 non-null  object \n",
      " 5   book_title         76699 non-null  object \n",
      " 6   book_author        76699 non-null  object \n",
      " 7   publisher          76699 non-null  object \n",
      " 8   language           76699 non-null  object \n",
      " 9   high_category      76699 non-null  object \n",
      " 10  publication_range  76699 non-null  float64\n",
      "dtypes: float64(2), int64(2), object(7)\n",
      "memory usage: 6.4+ MB\n"
     ]
    }
   ],
   "source": [
    "test.info()"
   ]
  },
  {
   "cell_type": "code",
   "execution_count": 23,
   "metadata": {},
   "outputs": [],
   "source": [
    "user_id_counts = train['user_id'].value_counts()\n",
    "\n",
    "train['review_counts'] = train['user_id'].map(user_id_counts)\n",
    "test['review_counts'] = test['user_id'].map(user_id_counts)\n",
    "test['review_counts'] = test['review_counts'].fillna(0)"
   ]
  },
  {
   "cell_type": "code",
   "execution_count": 24,
   "metadata": {},
   "outputs": [],
   "source": [
    "cat_col = ['isbn', 'book_title', 'book_author', 'publisher', 'language', 'high_category', 'publication_range', 'user_id', 'age_range', 'location_country']\n",
    "num_col = ['rating', 'review_counts']\n",
    "\n",
    "for df in [train, test] :\n",
    "    for cat in cat_col :\n",
    "        df[cat] = df[cat].astype('str')\n",
    "    for num in num_col :\n",
    "        df[num] = df[num].astype('int')\n"
   ]
  },
  {
   "cell_type": "code",
   "execution_count": 25,
   "metadata": {},
   "outputs": [],
   "source": [
    "from sklearn.preprocessing import LabelEncoder\n",
    "import tqdm"
   ]
  },
  {
   "cell_type": "code",
   "execution_count": 26,
   "metadata": {},
   "outputs": [
    {
     "data": {
      "text/html": [
       "<div>\n",
       "<style scoped>\n",
       "    .dataframe tbody tr th:only-of-type {\n",
       "        vertical-align: middle;\n",
       "    }\n",
       "\n",
       "    .dataframe tbody tr th {\n",
       "        vertical-align: top;\n",
       "    }\n",
       "\n",
       "    .dataframe thead th {\n",
       "        text-align: right;\n",
       "    }\n",
       "</style>\n",
       "<table border=\"1\" class=\"dataframe\">\n",
       "  <thead>\n",
       "    <tr style=\"text-align: right;\">\n",
       "      <th></th>\n",
       "      <th>user_id</th>\n",
       "      <th>isbn</th>\n",
       "      <th>rating</th>\n",
       "      <th>age_range</th>\n",
       "      <th>location_country</th>\n",
       "      <th>book_title</th>\n",
       "      <th>book_author</th>\n",
       "      <th>publisher</th>\n",
       "      <th>language</th>\n",
       "      <th>high_category</th>\n",
       "      <th>publication_range</th>\n",
       "      <th>review_counts</th>\n",
       "    </tr>\n",
       "  </thead>\n",
       "  <tbody>\n",
       "    <tr>\n",
       "      <th>0</th>\n",
       "      <td>11676</td>\n",
       "      <td>0002005018</td>\n",
       "      <td>0</td>\n",
       "      <td>30.0</td>\n",
       "      <td>usa</td>\n",
       "      <td>clara callan</td>\n",
       "      <td>richard bruce wright</td>\n",
       "      <td>harperflamingo canada</td>\n",
       "      <td>en</td>\n",
       "      <td>others</td>\n",
       "      <td>2006.0</td>\n",
       "      <td>5520</td>\n",
       "    </tr>\n",
       "    <tr>\n",
       "      <th>1</th>\n",
       "      <td>116866</td>\n",
       "      <td>0002005018</td>\n",
       "      <td>0</td>\n",
       "      <td>30.0</td>\n",
       "      <td>canada</td>\n",
       "      <td>clara callan</td>\n",
       "      <td>richard bruce wright</td>\n",
       "      <td>harperflamingo canada</td>\n",
       "      <td>en</td>\n",
       "      <td>others</td>\n",
       "      <td>2006.0</td>\n",
       "      <td>49</td>\n",
       "    </tr>\n",
       "    <tr>\n",
       "      <th>2</th>\n",
       "      <td>152827</td>\n",
       "      <td>0060973129</td>\n",
       "      <td>0</td>\n",
       "      <td>40.0</td>\n",
       "      <td>canada</td>\n",
       "      <td>decision in normandy</td>\n",
       "      <td>carlo deste</td>\n",
       "      <td>harperperennial</td>\n",
       "      <td>en</td>\n",
       "      <td>others</td>\n",
       "      <td>1990.0</td>\n",
       "      <td>5</td>\n",
       "    </tr>\n",
       "    <tr>\n",
       "      <th>3</th>\n",
       "      <td>157969</td>\n",
       "      <td>0374157065</td>\n",
       "      <td>0</td>\n",
       "      <td>30.0</td>\n",
       "      <td>usa</td>\n",
       "      <td>flu the story of the great influenza pandemic ...</td>\n",
       "      <td>gina bari kolata</td>\n",
       "      <td>farrar straus giroux</td>\n",
       "      <td>en</td>\n",
       "      <td>medical</td>\n",
       "      <td>1995.0</td>\n",
       "      <td>2</td>\n",
       "    </tr>\n",
       "    <tr>\n",
       "      <th>4</th>\n",
       "      <td>67958</td>\n",
       "      <td>0399135782</td>\n",
       "      <td>0</td>\n",
       "      <td>30.0</td>\n",
       "      <td>usa</td>\n",
       "      <td>the kitchen gods wife</td>\n",
       "      <td>amy tan</td>\n",
       "      <td>putnam pub group</td>\n",
       "      <td>en</td>\n",
       "      <td>fiction</td>\n",
       "      <td>1990.0</td>\n",
       "      <td>11</td>\n",
       "    </tr>\n",
       "    <tr>\n",
       "      <th>...</th>\n",
       "      <td>...</td>\n",
       "      <td>...</td>\n",
       "      <td>...</td>\n",
       "      <td>...</td>\n",
       "      <td>...</td>\n",
       "      <td>...</td>\n",
       "      <td>...</td>\n",
       "      <td>...</td>\n",
       "      <td>...</td>\n",
       "      <td>...</td>\n",
       "      <td>...</td>\n",
       "      <td>...</td>\n",
       "    </tr>\n",
       "    <tr>\n",
       "      <th>76694</th>\n",
       "      <td>278543</td>\n",
       "      <td>1576734218</td>\n",
       "      <td>0</td>\n",
       "      <td>30.0</td>\n",
       "      <td>usa</td>\n",
       "      <td>on becoming childwise</td>\n",
       "      <td>gary ezzo</td>\n",
       "      <td>multnomah</td>\n",
       "      <td>en</td>\n",
       "      <td>relationship</td>\n",
       "      <td>1995.0</td>\n",
       "      <td>3</td>\n",
       "    </tr>\n",
       "    <tr>\n",
       "      <th>76695</th>\n",
       "      <td>278563</td>\n",
       "      <td>3492223710</td>\n",
       "      <td>0</td>\n",
       "      <td>30.0</td>\n",
       "      <td>austria</td>\n",
       "      <td>michael khlmeiers sagen des klassischen altert...</td>\n",
       "      <td>michael khlmeier</td>\n",
       "      <td>piper</td>\n",
       "      <td>de</td>\n",
       "      <td>others</td>\n",
       "      <td>1995.0</td>\n",
       "      <td>4</td>\n",
       "    </tr>\n",
       "    <tr>\n",
       "      <th>76696</th>\n",
       "      <td>278633</td>\n",
       "      <td>1896095186</td>\n",
       "      <td>0</td>\n",
       "      <td>30.0</td>\n",
       "      <td>usa</td>\n",
       "      <td>poolhopping</td>\n",
       "      <td>anne fleming</td>\n",
       "      <td>polestar book publishers</td>\n",
       "      <td>en</td>\n",
       "      <td>fiction</td>\n",
       "      <td>2000.0</td>\n",
       "      <td>31</td>\n",
       "    </tr>\n",
       "    <tr>\n",
       "      <th>76697</th>\n",
       "      <td>278668</td>\n",
       "      <td>8408044079</td>\n",
       "      <td>0</td>\n",
       "      <td>40.0</td>\n",
       "      <td>spain</td>\n",
       "      <td>la muerte del decano</td>\n",
       "      <td>gonzalo torrrente ballester</td>\n",
       "      <td>planeta publishing corporation</td>\n",
       "      <td>es</td>\n",
       "      <td>others</td>\n",
       "      <td>2006.0</td>\n",
       "      <td>3</td>\n",
       "    </tr>\n",
       "    <tr>\n",
       "      <th>76698</th>\n",
       "      <td>278851</td>\n",
       "      <td>0767907566</td>\n",
       "      <td>0</td>\n",
       "      <td>30.0</td>\n",
       "      <td>usa</td>\n",
       "      <td>all elevations unknown an adventure in the hea...</td>\n",
       "      <td>sam lightner</td>\n",
       "      <td>broadway books</td>\n",
       "      <td>en</td>\n",
       "      <td>nature</td>\n",
       "      <td>2006.0</td>\n",
       "      <td>12</td>\n",
       "    </tr>\n",
       "  </tbody>\n",
       "</table>\n",
       "<p>76699 rows × 12 columns</p>\n",
       "</div>"
      ],
      "text/plain": [
       "      user_id        isbn  rating age_range location_country  \\\n",
       "0       11676  0002005018       0      30.0              usa   \n",
       "1      116866  0002005018       0      30.0           canada   \n",
       "2      152827  0060973129       0      40.0           canada   \n",
       "3      157969  0374157065       0      30.0              usa   \n",
       "4       67958  0399135782       0      30.0              usa   \n",
       "...       ...         ...     ...       ...              ...   \n",
       "76694  278543  1576734218       0      30.0              usa   \n",
       "76695  278563  3492223710       0      30.0          austria   \n",
       "76696  278633  1896095186       0      30.0              usa   \n",
       "76697  278668  8408044079       0      40.0            spain   \n",
       "76698  278851  0767907566       0      30.0              usa   \n",
       "\n",
       "                                              book_title  \\\n",
       "0                                           clara callan   \n",
       "1                                           clara callan   \n",
       "2                                   decision in normandy   \n",
       "3      flu the story of the great influenza pandemic ...   \n",
       "4                                  the kitchen gods wife   \n",
       "...                                                  ...   \n",
       "76694                              on becoming childwise   \n",
       "76695  michael khlmeiers sagen des klassischen altert...   \n",
       "76696                                        poolhopping   \n",
       "76697                               la muerte del decano   \n",
       "76698  all elevations unknown an adventure in the hea...   \n",
       "\n",
       "                       book_author                       publisher language  \\\n",
       "0             richard bruce wright           harperflamingo canada       en   \n",
       "1             richard bruce wright           harperflamingo canada       en   \n",
       "2                      carlo deste                 harperperennial       en   \n",
       "3                 gina bari kolata            farrar straus giroux       en   \n",
       "4                          amy tan                putnam pub group       en   \n",
       "...                            ...                             ...      ...   \n",
       "76694                    gary ezzo                       multnomah       en   \n",
       "76695             michael khlmeier                           piper       de   \n",
       "76696                 anne fleming        polestar book publishers       en   \n",
       "76697  gonzalo torrrente ballester  planeta publishing corporation       es   \n",
       "76698                 sam lightner                  broadway books       en   \n",
       "\n",
       "      high_category publication_range  review_counts  \n",
       "0            others            2006.0           5520  \n",
       "1            others            2006.0             49  \n",
       "2            others            1990.0              5  \n",
       "3           medical            1995.0              2  \n",
       "4           fiction            1990.0             11  \n",
       "...             ...               ...            ...  \n",
       "76694  relationship            1995.0              3  \n",
       "76695        others            1995.0              4  \n",
       "76696       fiction            2000.0             31  \n",
       "76697        others            2006.0              3  \n",
       "76698        nature            2006.0             12  \n",
       "\n",
       "[76699 rows x 12 columns]"
      ]
     },
     "execution_count": 26,
     "metadata": {},
     "output_type": "execute_result"
    }
   ],
   "source": [
    "test"
   ]
  },
  {
   "cell_type": "code",
   "execution_count": null,
   "metadata": {},
   "outputs": [],
   "source": [
    "for col in cat_col:\n",
    "    combined_values = pd.concat([train[col], test[col]]).unique()\n",
    "    train[col] = pd.Categorical(train[col], categories=combined_values).codes\n",
    "    test[col] = pd.Categorical(test[col], categories=combined_values).codes"
   ]
  },
  {
   "cell_type": "code",
   "execution_count": 28,
   "metadata": {},
   "outputs": [],
   "source": [
    "# for col in cat_col :\n",
    "#     le = LabelEncoder()\n",
    "#     train[col] = le.fit_transform(train[col])\n",
    "#     for label in tqdm.tqdm((test[col].unique())) :\n",
    "#         if label not in le.classes_ : \n",
    "#             le.classes_ = np.append(le.classes_, label)\n",
    "#     test[col] = le.transform(test[col])"
   ]
  },
  {
   "cell_type": "code",
   "execution_count": 29,
   "metadata": {},
   "outputs": [
    {
     "data": {
      "text/html": [
       "<div>\n",
       "<style scoped>\n",
       "    .dataframe tbody tr th:only-of-type {\n",
       "        vertical-align: middle;\n",
       "    }\n",
       "\n",
       "    .dataframe tbody tr th {\n",
       "        vertical-align: top;\n",
       "    }\n",
       "\n",
       "    .dataframe thead th {\n",
       "        text-align: right;\n",
       "    }\n",
       "</style>\n",
       "<table border=\"1\" class=\"dataframe\">\n",
       "  <thead>\n",
       "    <tr style=\"text-align: right;\">\n",
       "      <th></th>\n",
       "      <th>user_id</th>\n",
       "      <th>isbn</th>\n",
       "      <th>rating</th>\n",
       "      <th>age_range</th>\n",
       "      <th>location_country</th>\n",
       "      <th>book_title</th>\n",
       "      <th>book_author</th>\n",
       "      <th>publisher</th>\n",
       "      <th>language</th>\n",
       "      <th>high_category</th>\n",
       "      <th>publication_range</th>\n",
       "      <th>review_counts</th>\n",
       "    </tr>\n",
       "  </thead>\n",
       "  <tbody>\n",
       "    <tr>\n",
       "      <th>0</th>\n",
       "      <td>13</td>\n",
       "      <td>0</td>\n",
       "      <td>0</td>\n",
       "      <td>0</td>\n",
       "      <td>1</td>\n",
       "      <td>0</td>\n",
       "      <td>0</td>\n",
       "      <td>0</td>\n",
       "      <td>0</td>\n",
       "      <td>0</td>\n",
       "      <td>0</td>\n",
       "      <td>5520</td>\n",
       "    </tr>\n",
       "    <tr>\n",
       "      <th>1</th>\n",
       "      <td>13426</td>\n",
       "      <td>0</td>\n",
       "      <td>0</td>\n",
       "      <td>0</td>\n",
       "      <td>0</td>\n",
       "      <td>0</td>\n",
       "      <td>0</td>\n",
       "      <td>0</td>\n",
       "      <td>0</td>\n",
       "      <td>0</td>\n",
       "      <td>0</td>\n",
       "      <td>49</td>\n",
       "    </tr>\n",
       "    <tr>\n",
       "      <th>2</th>\n",
       "      <td>26761</td>\n",
       "      <td>1</td>\n",
       "      <td>0</td>\n",
       "      <td>4</td>\n",
       "      <td>0</td>\n",
       "      <td>1</td>\n",
       "      <td>1</td>\n",
       "      <td>1</td>\n",
       "      <td>0</td>\n",
       "      <td>0</td>\n",
       "      <td>1</td>\n",
       "      <td>5</td>\n",
       "    </tr>\n",
       "    <tr>\n",
       "      <th>3</th>\n",
       "      <td>16495</td>\n",
       "      <td>2</td>\n",
       "      <td>0</td>\n",
       "      <td>0</td>\n",
       "      <td>1</td>\n",
       "      <td>2</td>\n",
       "      <td>2</td>\n",
       "      <td>2</td>\n",
       "      <td>0</td>\n",
       "      <td>1</td>\n",
       "      <td>2</td>\n",
       "      <td>2</td>\n",
       "    </tr>\n",
       "    <tr>\n",
       "      <th>4</th>\n",
       "      <td>6225</td>\n",
       "      <td>3</td>\n",
       "      <td>0</td>\n",
       "      <td>0</td>\n",
       "      <td>1</td>\n",
       "      <td>3</td>\n",
       "      <td>3</td>\n",
       "      <td>3</td>\n",
       "      <td>0</td>\n",
       "      <td>2</td>\n",
       "      <td>1</td>\n",
       "      <td>11</td>\n",
       "    </tr>\n",
       "    <tr>\n",
       "      <th>...</th>\n",
       "      <td>...</td>\n",
       "      <td>...</td>\n",
       "      <td>...</td>\n",
       "      <td>...</td>\n",
       "      <td>...</td>\n",
       "      <td>...</td>\n",
       "      <td>...</td>\n",
       "      <td>...</td>\n",
       "      <td>...</td>\n",
       "      <td>...</td>\n",
       "      <td>...</td>\n",
       "      <td>...</td>\n",
       "    </tr>\n",
       "    <tr>\n",
       "      <th>76694</th>\n",
       "      <td>7728</td>\n",
       "      <td>149565</td>\n",
       "      <td>0</td>\n",
       "      <td>0</td>\n",
       "      <td>1</td>\n",
       "      <td>132671</td>\n",
       "      <td>1218</td>\n",
       "      <td>306</td>\n",
       "      <td>0</td>\n",
       "      <td>34</td>\n",
       "      <td>2</td>\n",
       "      <td>3</td>\n",
       "    </tr>\n",
       "    <tr>\n",
       "      <th>76695</th>\n",
       "      <td>47785</td>\n",
       "      <td>149566</td>\n",
       "      <td>0</td>\n",
       "      <td>0</td>\n",
       "      <td>17</td>\n",
       "      <td>132672</td>\n",
       "      <td>10266</td>\n",
       "      <td>108</td>\n",
       "      <td>1</td>\n",
       "      <td>0</td>\n",
       "      <td>2</td>\n",
       "      <td>4</td>\n",
       "    </tr>\n",
       "    <tr>\n",
       "      <th>76696</th>\n",
       "      <td>4209</td>\n",
       "      <td>149567</td>\n",
       "      <td>0</td>\n",
       "      <td>0</td>\n",
       "      <td>1</td>\n",
       "      <td>132673</td>\n",
       "      <td>59535</td>\n",
       "      <td>7573</td>\n",
       "      <td>0</td>\n",
       "      <td>2</td>\n",
       "      <td>3</td>\n",
       "      <td>31</td>\n",
       "    </tr>\n",
       "    <tr>\n",
       "      <th>76697</th>\n",
       "      <td>40779</td>\n",
       "      <td>149568</td>\n",
       "      <td>0</td>\n",
       "      <td>4</td>\n",
       "      <td>12</td>\n",
       "      <td>14352</td>\n",
       "      <td>59536</td>\n",
       "      <td>4914</td>\n",
       "      <td>3</td>\n",
       "      <td>0</td>\n",
       "      <td>0</td>\n",
       "      <td>3</td>\n",
       "    </tr>\n",
       "    <tr>\n",
       "      <th>76698</th>\n",
       "      <td>1879</td>\n",
       "      <td>149569</td>\n",
       "      <td>0</td>\n",
       "      <td>0</td>\n",
       "      <td>1</td>\n",
       "      <td>109211</td>\n",
       "      <td>59537</td>\n",
       "      <td>221</td>\n",
       "      <td>0</td>\n",
       "      <td>4</td>\n",
       "      <td>0</td>\n",
       "      <td>12</td>\n",
       "    </tr>\n",
       "  </tbody>\n",
       "</table>\n",
       "<p>76699 rows × 12 columns</p>\n",
       "</div>"
      ],
      "text/plain": [
       "       user_id    isbn  rating  age_range  location_country  book_title  \\\n",
       "0           13       0       0          0                 1           0   \n",
       "1        13426       0       0          0                 0           0   \n",
       "2        26761       1       0          4                 0           1   \n",
       "3        16495       2       0          0                 1           2   \n",
       "4         6225       3       0          0                 1           3   \n",
       "...        ...     ...     ...        ...               ...         ...   \n",
       "76694     7728  149565       0          0                 1      132671   \n",
       "76695    47785  149566       0          0                17      132672   \n",
       "76696     4209  149567       0          0                 1      132673   \n",
       "76697    40779  149568       0          4                12       14352   \n",
       "76698     1879  149569       0          0                 1      109211   \n",
       "\n",
       "       book_author  publisher  language  high_category  publication_range  \\\n",
       "0                0          0         0              0                  0   \n",
       "1                0          0         0              0                  0   \n",
       "2                1          1         0              0                  1   \n",
       "3                2          2         0              1                  2   \n",
       "4                3          3         0              2                  1   \n",
       "...            ...        ...       ...            ...                ...   \n",
       "76694         1218        306         0             34                  2   \n",
       "76695        10266        108         1              0                  2   \n",
       "76696        59535       7573         0              2                  3   \n",
       "76697        59536       4914         3              0                  0   \n",
       "76698        59537        221         0              4                  0   \n",
       "\n",
       "       review_counts  \n",
       "0               5520  \n",
       "1                 49  \n",
       "2                  5  \n",
       "3                  2  \n",
       "4                 11  \n",
       "...              ...  \n",
       "76694              3  \n",
       "76695              4  \n",
       "76696             31  \n",
       "76697              3  \n",
       "76698             12  \n",
       "\n",
       "[76699 rows x 12 columns]"
      ]
     },
     "execution_count": 29,
     "metadata": {},
     "output_type": "execute_result"
    }
   ],
   "source": [
    "test"
   ]
  },
  {
   "cell_type": "code",
   "execution_count": 30,
   "metadata": {},
   "outputs": [],
   "source": [
    "from sklearn.model_selection import train_test_split\n",
    "from catboost import CatBoostRegressor, Pool\n",
    "import matplotlib.pyplot as plt"
   ]
  },
  {
   "cell_type": "code",
   "execution_count": 31,
   "metadata": {},
   "outputs": [],
   "source": [
    "# METRIC 함수\n",
    "def calculate_metrics(y_true, y_pred):\n",
    "    metrics = {\n",
    "        'RMSE' : root_mean_squared_error(y_true, y_pred),\n",
    "        'MSE' : mean_squared_error(y_true, y_pred),\n",
    "        'MAE' : mean_absolute_error(y_true, y_pred)\n",
    "    }\n",
    "    return metrics"
   ]
  },
  {
   "cell_type": "code",
   "execution_count": null,
   "metadata": {},
   "outputs": [
    {
     "name": "stderr",
     "output_type": "stream",
     "text": [
      "  0%|          | 0/10 [00:00<?, ?it/s]"
     ]
    },
    {
     "name": "stdout",
     "output_type": "stream",
     "text": [
      "0:\tlearn: 2.3117084\ttest: 2.2287168\ttest1: 2.2878334\tbest: 2.2878334 (0)\ttotal: 429ms\tremaining: 35m 46s\n",
      "Stopped by overfitting detector  (100 iterations wait)\n",
      "\n",
      "bestTest = 2.132403812\n",
      "bestIteration = 105\n",
      "\n",
      "Shrink model to first 106 iterations.\n",
      "Fold 1 Valid RMSE: 2.132403811979189\n",
      "Fold 1 Valid MSE:  4.547146017343376\n",
      "Fold 1 Valid MAE:  1.60265727672518\n"
     ]
    },
    {
     "name": "stderr",
     "output_type": "stream",
     "text": [
      " 10%|█         | 1/10 [00:56<08:25, 56.20s/it]"
     ]
    },
    {
     "name": "stdout",
     "output_type": "stream",
     "text": [
      "0:\tlearn: 2.3093869\ttest: 2.2281050\ttest1: 2.2858580\tbest: 2.2858580 (0)\ttotal: 274ms\tremaining: 22m 48s\n",
      "Stopped by overfitting detector  (100 iterations wait)\n",
      "\n",
      "bestTest = 2.123506093\n",
      "bestIteration = 144\n",
      "\n",
      "Shrink model to first 145 iterations.\n",
      "Fold 2 Valid RMSE: 2.1235060932788294\n",
      "Fold 2 Valid MSE:  4.509278128192316\n",
      "Fold 2 Valid MAE:  1.5971281959526327\n"
     ]
    },
    {
     "name": "stderr",
     "output_type": "stream",
     "text": [
      " 20%|██        | 2/10 [02:02<08:19, 62.38s/it]"
     ]
    },
    {
     "name": "stdout",
     "output_type": "stream",
     "text": [
      "0:\tlearn: 2.3078682\ttest: 2.2267903\ttest1: 2.2877165\tbest: 2.2877165 (0)\ttotal: 297ms\tremaining: 24m 46s\n",
      "Stopped by overfitting detector  (100 iterations wait)\n",
      "\n",
      "bestTest = 2.127819481\n",
      "bestIteration = 129\n",
      "\n",
      "Shrink model to first 130 iterations.\n",
      "Fold 3 Valid RMSE: 2.127819481255274\n",
      "Fold 3 Valid MSE:  4.527615744809463\n",
      "Fold 3 Valid MAE:  1.5931923344310357\n"
     ]
    },
    {
     "name": "stderr",
     "output_type": "stream",
     "text": [
      " 30%|███       | 3/10 [03:07<07:24, 63.53s/it]"
     ]
    },
    {
     "name": "stdout",
     "output_type": "stream",
     "text": [
      "0:\tlearn: 2.3112608\ttest: 2.2297081\ttest1: 2.2862126\tbest: 2.2862126 (0)\ttotal: 296ms\tremaining: 24m 41s\n",
      "Stopped by overfitting detector  (100 iterations wait)\n",
      "\n",
      "bestTest = 2.13212785\n",
      "bestIteration = 155\n",
      "\n",
      "Shrink model to first 156 iterations.\n",
      "Fold 4 Valid RMSE: 2.1321278503825893\n",
      "Fold 4 Valid MSE:  4.545969170377081\n",
      "Fold 4 Valid MAE:  1.5997967245067286\n"
     ]
    },
    {
     "name": "stderr",
     "output_type": "stream",
     "text": [
      " 40%|████      | 4/10 [04:16<06:32, 65.44s/it]"
     ]
    },
    {
     "name": "stdout",
     "output_type": "stream",
     "text": [
      "0:\tlearn: 2.3054697\ttest: 2.2275023\ttest1: 2.2892198\tbest: 2.2892198 (0)\ttotal: 295ms\tremaining: 24m 34s\n",
      "Stopped by overfitting detector  (100 iterations wait)\n",
      "\n",
      "bestTest = 2.132494553\n",
      "bestIteration = 110\n",
      "\n",
      "Shrink model to first 111 iterations.\n",
      "Fold 5 Valid RMSE: 2.1324945533712456\n",
      "Fold 5 Valid MSE:  4.547533020158029\n",
      "Fold 5 Valid MAE:  1.6045224542999128\n"
     ]
    },
    {
     "name": "stderr",
     "output_type": "stream",
     "text": [
      " 50%|█████     | 5/10 [05:14<05:15, 63.04s/it]"
     ]
    },
    {
     "name": "stdout",
     "output_type": "stream",
     "text": [
      "0:\tlearn: 2.3013285\ttest: 2.2029602\ttest1: 2.2735544\tbest: 2.2735544 (0)\ttotal: 248ms\tremaining: 20m 41s\n",
      "Stopped by overfitting detector  (100 iterations wait)\n",
      "\n",
      "bestTest = 2.132054527\n",
      "bestIteration = 163\n",
      "\n",
      "Shrink model to first 164 iterations.\n",
      "Fold 6 Valid RMSE: 2.1320545268142372\n",
      "Fold 6 Valid MSE:  4.545656505309082\n",
      "Fold 6 Valid MAE:  1.592737763166217\n"
     ]
    },
    {
     "name": "stderr",
     "output_type": "stream",
     "text": [
      " 60%|██████    | 6/10 [06:27<04:25, 66.29s/it]"
     ]
    },
    {
     "name": "stdout",
     "output_type": "stream",
     "text": [
      "0:\tlearn: 2.3003359\ttest: 2.2032385\ttest1: 2.2735527\tbest: 2.2735527 (0)\ttotal: 277ms\tremaining: 23m 7s\n",
      "Stopped by overfitting detector  (100 iterations wait)\n",
      "\n",
      "bestTest = 2.131550487\n",
      "bestIteration = 120\n",
      "\n",
      "Shrink model to first 121 iterations.\n",
      "Fold 7 Valid RMSE: 2.1315504870204043\n",
      "Fold 7 Valid MSE:  4.543507478716922\n",
      "Fold 7 Valid MAE:  1.597095894987623\n"
     ]
    },
    {
     "name": "stderr",
     "output_type": "stream",
     "text": [
      " 70%|███████   | 7/10 [07:27<03:12, 64.06s/it]"
     ]
    },
    {
     "name": "stdout",
     "output_type": "stream",
     "text": [
      "0:\tlearn: 2.2996061\ttest: 2.2006453\ttest1: 2.2755337\tbest: 2.2755337 (0)\ttotal: 265ms\tremaining: 22m 7s\n",
      "Stopped by overfitting detector  (100 iterations wait)\n",
      "\n",
      "bestTest = 2.138021642\n",
      "bestIteration = 107\n",
      "\n",
      "Shrink model to first 108 iterations.\n",
      "Fold 8 Valid RMSE: 2.1380216416459206\n",
      "Fold 8 Valid MSE:  4.571136540146317\n",
      "Fold 8 Valid MAE:  1.6023416823355512\n"
     ]
    },
    {
     "name": "stderr",
     "output_type": "stream",
     "text": [
      " 80%|████████  | 8/10 [08:24<02:03, 61.90s/it]"
     ]
    },
    {
     "name": "stdout",
     "output_type": "stream",
     "text": [
      "0:\tlearn: 2.3010651\ttest: 2.2022008\ttest1: 2.2743452\tbest: 2.2743452 (0)\ttotal: 282ms\tremaining: 23m 28s\n",
      "Stopped by overfitting detector  (100 iterations wait)\n",
      "\n",
      "bestTest = 2.13140447\n",
      "bestIteration = 136\n",
      "\n",
      "Shrink model to first 137 iterations.\n",
      "Fold 9 Valid RMSE: 2.131404469693428\n",
      "Fold 9 Valid MSE:  4.542885013429123\n",
      "Fold 9 Valid MAE:  1.6005258132799962\n"
     ]
    },
    {
     "name": "stderr",
     "output_type": "stream",
     "text": [
      " 90%|█████████ | 9/10 [09:34<01:04, 64.46s/it]"
     ]
    },
    {
     "name": "stdout",
     "output_type": "stream",
     "text": [
      "0:\tlearn: 2.2999251\ttest: 2.2021231\ttest1: 2.2725923\tbest: 2.2725923 (0)\ttotal: 340ms\tremaining: 28m 20s\n",
      "Stopped by overfitting detector  (100 iterations wait)\n",
      "\n",
      "bestTest = 2.133026426\n",
      "bestIteration = 140\n",
      "\n",
      "Shrink model to first 141 iterations.\n",
      "Fold 10 Valid RMSE: 2.1330264263756007\n",
      "Fold 10 Valid MSE:  4.549801735616666\n",
      "Fold 10 Valid MAE:  1.6012959600347765\n"
     ]
    },
    {
     "name": "stderr",
     "output_type": "stream",
     "text": [
      "100%|██████████| 10/10 [10:46<00:00, 64.64s/it]\n"
     ]
    },
    {
     "name": "stdout",
     "output_type": "stream",
     "text": [
      "RMSE 평균 : 2.1314 \n",
      "\n"
     ]
    },
    {
     "data": {
      "application/vnd.jupyter.widget-view+json": {
       "model_id": "0d52978756c240a08825b7e5e2c74acf",
       "version_major": 2,
       "version_minor": 0
      },
      "text/plain": [
       "VBox(children=(Label(value='0.011 MB of 0.011 MB uploaded\\r'), FloatProgress(value=1.0, max=1.0)))"
      ]
     },
     "metadata": {},
     "output_type": "display_data"
    },
    {
     "data": {
      "text/html": [
       "<style>\n",
       "    table.wandb td:nth-child(1) { padding: 0 10px; text-align: left ; width: auto;} td:nth-child(2) {text-align: left ; width: 100%}\n",
       "    .wandb-row { display: flex; flex-direction: row; flex-wrap: wrap; justify-content: flex-start; width: 100% }\n",
       "    .wandb-col { display: flex; flex-direction: column; flex-basis: 100%; flex: 1; padding: 10px; }\n",
       "    </style>\n",
       "<div class=\"wandb-row\"><div class=\"wandb-col\"><h3>Run history:</h3><br/><table class=\"wandb\"><tr><td>Valid MAE</td><td>▁</td></tr><tr><td>Valid MSE</td><td>▁</td></tr><tr><td>Valid RMSE</td><td>▁</td></tr></table><br/></div><div class=\"wandb-col\"><h3>Run summary:</h3><br/><table class=\"wandb\"><tr><td>Valid MAE</td><td>1.59913</td></tr><tr><td>Valid MSE</td><td>4.54305</td></tr><tr><td>Valid RMSE</td><td>2.13144</td></tr><tr><td>features</td><td>user_id, age_range, ...</td></tr><tr><td>param</td><td>{\"learning_rate\": 0....</td></tr></table><br/></div></div>"
      ],
      "text/plain": [
       "<IPython.core.display.HTML object>"
      ]
     },
     "metadata": {},
     "output_type": "display_data"
    },
    {
     "data": {
      "text/html": [
       " View run <strong style=\"color:#cdcd00\">catboost_base</strong> at: <a href='https://wandb.ai/remember-us/active/runs/rk54tu83' target=\"_blank\">https://wandb.ai/remember-us/active/runs/rk54tu83</a><br/> View project at: <a href='https://wandb.ai/remember-us/active' target=\"_blank\">https://wandb.ai/remember-us/active</a><br/>Synced 4 W&B file(s), 0 media file(s), 3 artifact file(s) and 0 other file(s)"
      ],
      "text/plain": [
       "<IPython.core.display.HTML object>"
      ]
     },
     "metadata": {},
     "output_type": "display_data"
    },
    {
     "data": {
      "text/html": [
       "Find logs at: <code>./wandb/run-20241106_041745-rk54tu83/logs</code>"
      ],
      "text/plain": [
       "<IPython.core.display.HTML object>"
      ]
     },
     "metadata": {},
     "output_type": "display_data"
    }
   ],
   "source": [
    "X_data, y_data = train.drop(columns = 'rating'), train['rating']\n",
    "\n",
    "skf = StratifiedKFold(n_splits = 10, shuffle = True, random_state = 42)\n",
    "valid_rmse = []\n",
    "valid_mse = []\n",
    "valid_mae = []\n",
    "pred_df = pd.DataFrame()\n",
    "\n",
    "for fold, (train_idx, valid_idx) in tqdm.tqdm(enumerate(skf.split(X_data, y_data)), total = skf.n_splits) : \n",
    "    \n",
    "    # Train Set과 Valid Set 분할    \n",
    "    X_train, y_train = X_data.iloc[train_idx], y_data.iloc[train_idx]\n",
    "    X_valid, y_valid = X_data.iloc[valid_idx], y_data.iloc[valid_idx]\n",
    "    \n",
    "    train_data = Pool(data = X_train, label = y_train, cat_features = cat_col)\n",
    "    valid_data = Pool(data = X_valid, label = y_valid, cat_features = cat_col)\n",
    "    # Best Parameter\n",
    "    param = {\n",
    "        'learning_rate': 0.5,\n",
    "        'depth': 7,\n",
    "        'colsample_bylevel': 0.5,\n",
    "        'boosting_type': 'Plain',\n",
    "        'bootstrap_type': 'MVS'\n",
    "    }\n",
    "    \n",
    "    cat_model = CatBoostRegressor(**param, iterations = 1000, \n",
    "                                loss_function = 'RMSE', eval_metric = 'RMSE', \n",
    "                                use_best_model = True, random_state = 42,\n",
    "                                cat_features = [i for i in range(0, 10)])\n",
    "    cat_model.fit(train_data, eval_set = [train_data, valid_data], use_best_model = True,\n",
    "                verbose = 500, early_stopping_rounds = 100)\n",
    "    \n",
    "    # 모델 RMSE\n",
    "    valid_metrics = calculate_metrics(y_valid, cat_model.predict(X_valid))\n",
    "    print(f\"Fold {fold + 1} Valid RMSE: {valid_metrics['RMSE']}\")\n",
    "    print(f\"Fold {fold + 1} Valid MSE:  {valid_metrics['MSE']}\")\n",
    "    print(f\"Fold {fold + 1} Valid MAE:  {valid_metrics['MAE']}\")\n",
    "    valid_rmse.append(valid_metrics['RMSE'])\n",
    "    valid_mse.append(valid_metrics['MSE'])\n",
    "    valid_mae.append(valid_metrics['MAE'])\n",
    "    \n",
    "    # Predict\n",
    "    pred = cat_model.predict(test.drop(['rating'], axis = 1))\n",
    "    pred_df[f'pred_{fold}'] = pred\n",
    "    \n",
    "print(f'RMSE 평균 : {np.array(valid_rmse).mean():.4f} \\n')\n",
    "\n",
    "param = json.dumps(param)\n",
    "wandb.log({\n",
    "    \"Valid RMSE\": np.array(valid_rmse).mean(),\n",
    "    \"Valid MSE\": np.array(valid_mse).mean(),\n",
    "    \"Valid MAE\": np.array(valid_mae).mean(),\n",
    "    \"param\": param,\n",
    "    \"features\": X_data.columns\n",
    "})\n",
    "wandb.finish()"
   ]
  },
  {
   "cell_type": "code",
   "execution_count": 33,
   "metadata": {},
   "outputs": [
    {
     "data": {
      "text/html": [
       "<div>\n",
       "<style scoped>\n",
       "    .dataframe tbody tr th:only-of-type {\n",
       "        vertical-align: middle;\n",
       "    }\n",
       "\n",
       "    .dataframe tbody tr th {\n",
       "        vertical-align: top;\n",
       "    }\n",
       "\n",
       "    .dataframe thead th {\n",
       "        text-align: right;\n",
       "    }\n",
       "</style>\n",
       "<table border=\"1\" class=\"dataframe\">\n",
       "  <thead>\n",
       "    <tr style=\"text-align: right;\">\n",
       "      <th></th>\n",
       "      <th>user_id</th>\n",
       "      <th>isbn</th>\n",
       "      <th>rating</th>\n",
       "    </tr>\n",
       "  </thead>\n",
       "  <tbody>\n",
       "    <tr>\n",
       "      <th>0</th>\n",
       "      <td>11676</td>\n",
       "      <td>0002005018</td>\n",
       "      <td>0</td>\n",
       "    </tr>\n",
       "    <tr>\n",
       "      <th>1</th>\n",
       "      <td>116866</td>\n",
       "      <td>0002005018</td>\n",
       "      <td>0</td>\n",
       "    </tr>\n",
       "    <tr>\n",
       "      <th>2</th>\n",
       "      <td>152827</td>\n",
       "      <td>0060973129</td>\n",
       "      <td>0</td>\n",
       "    </tr>\n",
       "    <tr>\n",
       "      <th>3</th>\n",
       "      <td>157969</td>\n",
       "      <td>0374157065</td>\n",
       "      <td>0</td>\n",
       "    </tr>\n",
       "    <tr>\n",
       "      <th>4</th>\n",
       "      <td>67958</td>\n",
       "      <td>0399135782</td>\n",
       "      <td>0</td>\n",
       "    </tr>\n",
       "    <tr>\n",
       "      <th>...</th>\n",
       "      <td>...</td>\n",
       "      <td>...</td>\n",
       "      <td>...</td>\n",
       "    </tr>\n",
       "    <tr>\n",
       "      <th>76694</th>\n",
       "      <td>278543</td>\n",
       "      <td>1576734218</td>\n",
       "      <td>0</td>\n",
       "    </tr>\n",
       "    <tr>\n",
       "      <th>76695</th>\n",
       "      <td>278563</td>\n",
       "      <td>3492223710</td>\n",
       "      <td>0</td>\n",
       "    </tr>\n",
       "    <tr>\n",
       "      <th>76696</th>\n",
       "      <td>278633</td>\n",
       "      <td>1896095186</td>\n",
       "      <td>0</td>\n",
       "    </tr>\n",
       "    <tr>\n",
       "      <th>76697</th>\n",
       "      <td>278668</td>\n",
       "      <td>8408044079</td>\n",
       "      <td>0</td>\n",
       "    </tr>\n",
       "    <tr>\n",
       "      <th>76698</th>\n",
       "      <td>278851</td>\n",
       "      <td>0767907566</td>\n",
       "      <td>0</td>\n",
       "    </tr>\n",
       "  </tbody>\n",
       "</table>\n",
       "<p>76699 rows × 3 columns</p>\n",
       "</div>"
      ],
      "text/plain": [
       "       user_id        isbn  rating\n",
       "0        11676  0002005018       0\n",
       "1       116866  0002005018       0\n",
       "2       152827  0060973129       0\n",
       "3       157969  0374157065       0\n",
       "4        67958  0399135782       0\n",
       "...        ...         ...     ...\n",
       "76694   278543  1576734218       0\n",
       "76695   278563  3492223710       0\n",
       "76696   278633  1896095186       0\n",
       "76697   278668  8408044079       0\n",
       "76698   278851  0767907566       0\n",
       "\n",
       "[76699 rows x 3 columns]"
      ]
     },
     "execution_count": 33,
     "metadata": {},
     "output_type": "execute_result"
    }
   ],
   "source": [
    "sub"
   ]
  },
  {
   "cell_type": "code",
   "execution_count": 34,
   "metadata": {},
   "outputs": [
    {
     "data": {
      "text/html": [
       "<div>\n",
       "<style scoped>\n",
       "    .dataframe tbody tr th:only-of-type {\n",
       "        vertical-align: middle;\n",
       "    }\n",
       "\n",
       "    .dataframe tbody tr th {\n",
       "        vertical-align: top;\n",
       "    }\n",
       "\n",
       "    .dataframe thead th {\n",
       "        text-align: right;\n",
       "    }\n",
       "</style>\n",
       "<table border=\"1\" class=\"dataframe\">\n",
       "  <thead>\n",
       "    <tr style=\"text-align: right;\">\n",
       "      <th></th>\n",
       "      <th>user_id</th>\n",
       "      <th>isbn</th>\n",
       "      <th>rating</th>\n",
       "    </tr>\n",
       "  </thead>\n",
       "  <tbody>\n",
       "    <tr>\n",
       "      <th>0</th>\n",
       "      <td>11676</td>\n",
       "      <td>0002005018</td>\n",
       "      <td>6.797687</td>\n",
       "    </tr>\n",
       "    <tr>\n",
       "      <th>1</th>\n",
       "      <td>116866</td>\n",
       "      <td>0002005018</td>\n",
       "      <td>7.107888</td>\n",
       "    </tr>\n",
       "    <tr>\n",
       "      <th>2</th>\n",
       "      <td>152827</td>\n",
       "      <td>0060973129</td>\n",
       "      <td>7.385636</td>\n",
       "    </tr>\n",
       "    <tr>\n",
       "      <th>3</th>\n",
       "      <td>157969</td>\n",
       "      <td>0374157065</td>\n",
       "      <td>7.428739</td>\n",
       "    </tr>\n",
       "    <tr>\n",
       "      <th>4</th>\n",
       "      <td>67958</td>\n",
       "      <td>0399135782</td>\n",
       "      <td>7.586509</td>\n",
       "    </tr>\n",
       "    <tr>\n",
       "      <th>...</th>\n",
       "      <td>...</td>\n",
       "      <td>...</td>\n",
       "      <td>...</td>\n",
       "    </tr>\n",
       "    <tr>\n",
       "      <th>76694</th>\n",
       "      <td>278543</td>\n",
       "      <td>1576734218</td>\n",
       "      <td>6.272785</td>\n",
       "    </tr>\n",
       "    <tr>\n",
       "      <th>76695</th>\n",
       "      <td>278563</td>\n",
       "      <td>3492223710</td>\n",
       "      <td>5.913859</td>\n",
       "    </tr>\n",
       "    <tr>\n",
       "      <th>76696</th>\n",
       "      <td>278633</td>\n",
       "      <td>1896095186</td>\n",
       "      <td>6.313652</td>\n",
       "    </tr>\n",
       "    <tr>\n",
       "      <th>76697</th>\n",
       "      <td>278668</td>\n",
       "      <td>8408044079</td>\n",
       "      <td>5.436259</td>\n",
       "    </tr>\n",
       "    <tr>\n",
       "      <th>76698</th>\n",
       "      <td>278851</td>\n",
       "      <td>0767907566</td>\n",
       "      <td>5.522434</td>\n",
       "    </tr>\n",
       "  </tbody>\n",
       "</table>\n",
       "<p>76699 rows × 3 columns</p>\n",
       "</div>"
      ],
      "text/plain": [
       "       user_id        isbn    rating\n",
       "0        11676  0002005018  6.797687\n",
       "1       116866  0002005018  7.107888\n",
       "2       152827  0060973129  7.385636\n",
       "3       157969  0374157065  7.428739\n",
       "4        67958  0399135782  7.586509\n",
       "...        ...         ...       ...\n",
       "76694   278543  1576734218  6.272785\n",
       "76695   278563  3492223710  5.913859\n",
       "76696   278633  1896095186  6.313652\n",
       "76697   278668  8408044079  5.436259\n",
       "76698   278851  0767907566  5.522434\n",
       "\n",
       "[76699 rows x 3 columns]"
      ]
     },
     "execution_count": 34,
     "metadata": {},
     "output_type": "execute_result"
    }
   ],
   "source": [
    "sub['rating'] = (pred_df['pred_0'] + pred_df['pred_1'] + pred_df['pred_2'] + pred_df['pred_3'] + pred_df['pred_4'] + \n",
    "                               pred_df['pred_5'] + pred_df['pred_6'] + pred_df['pred_7'] + pred_df['pred_8'] + pred_df['pred_9']) / 10\n",
    "submit = sub[['user_id', 'isbn', 'rating']]\n",
    "submit"
   ]
  },
  {
   "cell_type": "code",
   "execution_count": 35,
   "metadata": {},
   "outputs": [],
   "source": [
    "submit.to_csv('submit.csv', index = False)"
   ]
  }
 ],
 "metadata": {
  "kernelspec": {
   "display_name": "base",
   "language": "python",
   "name": "python3"
  },
  "language_info": {
   "codemirror_mode": {
    "name": "ipython",
    "version": 3
   },
   "file_extension": ".py",
   "mimetype": "text/x-python",
   "name": "python",
   "nbconvert_exporter": "python",
   "pygments_lexer": "ipython3",
   "version": "3.10.13"
  }
 },
 "nbformat": 4,
 "nbformat_minor": 2
}
